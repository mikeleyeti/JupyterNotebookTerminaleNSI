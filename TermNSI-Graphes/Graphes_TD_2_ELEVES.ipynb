{
 "cells": [
  {
   "cell_type": "markdown",
   "metadata": {},
   "source": [
    "# Application des graphes : coloration et problèmes d'optimisation."
   ]
  },
  {
   "cell_type": "markdown",
   "metadata": {},
   "source": [
    "Nous allons utilser la classe `Graphe` codée lors du TD précédent."
   ]
  },
  {
   "cell_type": "code",
   "execution_count": null,
   "metadata": {},
   "outputs": [],
   "source": [
    "# Import de networkx pour l'affichage des graphes.\n",
    "import networkx\n",
    "import matplotlib.pyplot as plt"
   ]
  },
  {
   "cell_type": "code",
   "execution_count": null,
   "metadata": {},
   "outputs": [],
   "source": [
    "class Graphe:\n",
    "    def __init__(self):\n",
    "        self.adj = {}\n",
    "        self.couleurs = {}\n",
    "        \n",
    "    def ajouter_sommet(self,s):\n",
    "        if s not in self.adj :\n",
    "            self.adj[s] = []\n",
    "            \n",
    "    def ajouter_arc(self, s1, s2):\n",
    "        self.ajouter_sommet(s1)\n",
    "        self.ajouter_sommet(s2)\n",
    "        if s2 not in self.adj[s1]:\n",
    "            self.adj[s1].append(s2)\n",
    "        if s1 not in self.adj[s2]:\n",
    "            self.adj[s2].append(s1)\n",
    "        \n",
    "    def arc(self,s1,s2):\n",
    "        return s2 in self.adj[s1]\n",
    "    \n",
    "    def sommets(self):\n",
    "        return list(self.adj.keys())\n",
    "    \n",
    "    def voisins(self,s):\n",
    "        return list(self.adj[s])\n",
    "    \n",
    "    def colorer(self,s,couleur):\n",
    "        self.couleurs[s] = couleur\n",
    "    \n",
    "    def __str__(self): \n",
    "        \"Affichage du graphe en utilisant le module networkx\"\n",
    "        G = networkx.Graph()\n",
    "        # sorted pour avoir la correspondance entre les couleurs choisie et celles affichées\n",
    "        for s1 in sorted(self.sommets()):\n",
    "            for s2 in self.voisins(s1):\n",
    "                G.add_edge(s1,s2)\n",
    "        if self.couleurs:\n",
    "            networkx.draw(G, with_labels=True,cmap=plt.get_cmap('tab10'), node_color=list(self.couleurs.values()))\n",
    "        else:\n",
    "            networkx.draw(G, with_labels=True, node_color=\"skyblue\", )  \n",
    "\n",
    "        return \"\""
   ]
  },
  {
   "cell_type": "code",
   "execution_count": null,
   "metadata": {},
   "outputs": [],
   "source": [
    "# Exemple Vérifiez le bon fonctionnement de la classe.\n",
    "\n",
    "g = Graphe()\n",
    "g.ajouter_arc(\"A\",\"B\")\n",
    "g.ajouter_arc(\"A\",\"D\")\n",
    "g.ajouter_arc(\"B\",\"C\")\n",
    "g.ajouter_arc(\"D\",\"B\")\n",
    "\n",
    "print(\"Sommets du graphe:\",g.sommets())\n",
    "print(\"Voisins de A:\",g.voisins(\"A\"))\n",
    "print(\"Voisins de B:\",g.voisins(\"B\"))\n",
    "print(g)"
   ]
  },
  {
   "cell_type": "markdown",
   "metadata": {},
   "source": [
    "## Problème d'aquarium\n",
    "\n",
    "A, B, C, D, E, F, G et H désignent 8 espèces de poissons (Anguille, Barracuda, Carpe, Dorade, Espadon, Flétan , Guppy, Hippocampe et Ide)\n",
    "\n",
    "- A ne peut pas vivre avec B, C, D et E.\n",
    "- C ne peut pas cohabiter avec B\n",
    "- B est incompatible avec D et F\n",
    "- G se fait dévorer par E, H et F\n",
    "- H ne peut pas vivre avec E et F\n",
    "\n",
    "Nous allons chercher à répondre au problème suivant :\n",
    "### Combien faut-il d'aquarium au minimum pour que les poissons cohabitent entre eux ?\n",
    "Pour cela nous allons utiliser la notion de coloration de graphe.\n"
   ]
  },
  {
   "cell_type": "markdown",
   "metadata": {},
   "source": [
    "<div class=\"alert alert-warning\" role=\"alert\">\n",
    "    \n",
    "## Exercice 1\n",
    "Mettre la situation sous forme de graphe dans lequel :\n",
    "- Chaque sommet est un des poissons.\n",
    "- Deux sommets sont reliés par une arête si et seulement si les poissons sont incompatibles.    \n",
    "\n",
    "Représenter le graphe précédent à l'aide de `Python` en utilisant la classe `Graphe` ci-dessus.\n",
    "</div>"
   ]
  },
  {
   "cell_type": "code",
   "execution_count": null,
   "metadata": {},
   "outputs": [],
   "source": [
    "# Votre code ici\n",
    "\n"
   ]
  },
  {
   "cell_type": "markdown",
   "metadata": {},
   "source": [
    "<div class=\"alert alert-warning\" role=\"alert\">\n",
    "    \n",
    "## Exercice 2\n",
    "On dispose d'une couleur par aquarium, colorer les sommets du graphe de façon à ce que les poissons du même aquarium soient compatibles entre eux.  \n",
    "Essayez d'utiliser le moins de couleurs différentes.\n",
    "   \n",
    "\n",
    "\n",
    "Pour colorer un sommet, utilisez la méthode `colorer` comme dans l'exemple suivant : \n",
    "```\n",
    "g.colorer(\"A\",'red')\n",
    "g.colorer(\"B\",'DarkGreen')\n",
    "# Il  faut demander l'affichage du graphe pour obtenir les sommets colorés\n",
    "print(g)\n",
    "```\n",
    "    \n",
    " Vous pourrez des noms de couleurs que vous trouverez dans le site suivant : [https://html-color-codes.info/color-names/](https://html-color-codes.info/color-names/)\n",
    "\n",
    "    \n",
    "<details style =\"background-color: Silver;\">\n",
    "   <summary > Cliquez ici pour un indice  </summary>\n",
    "Par exemple, A et B ne peuvent pas être colorés de la même couleur car les poissons A et B sont incompatibles. Par contre A et F peuvent être colorés avec la même couleurs car les poissons A et F peuvent être mis dans le même aquarium.\n",
    "</details>\n",
    "</div>"
   ]
  },
  {
   "cell_type": "code",
   "execution_count": null,
   "metadata": {},
   "outputs": [],
   "source": [
    "# Votre code ici\n"
   ]
  },
  {
   "cell_type": "markdown",
   "metadata": {},
   "source": [
    "<div class=\"alert alert-warning\" role=\"alert\">\n",
    "    \n",
    "## Exercice 3\n",
    "D'après vous, combien faut-il d'aquariums différents au minimum ?  \n",
    "**Votre réponse ici**  \n",
    "\n",
    "    \n",
    "Peux-t-on le faire avec moins de 3 aquariums, argumentez votre réponse .  \n",
    "**Votre réponse ici**  \n",
    "\n",
    "</div>"
   ]
  },
  {
   "cell_type": "markdown",
   "metadata": {},
   "source": [
    "<div class=\"alert alert-warning\" role=\"alert\">\n",
    "    \n",
    "## Exercice 4\n",
    "Écrire, en langage naturel, un algorithme qui :\n",
    "- en entrée prend un graphe G et des couleurs 1,2,3,4... Les sommets de G sont numérotés de 1 à $n$ ($s_1$,$s_2$,. . .,$s_n$)\n",
    "- en sortie donne une coloration valide de ce graphe.\n",
    "\n",
    "    Cet algorithme doit être basé sur le principe glouton\n",
    "\n",
    "\n",
    "\n",
    "**Votre réponse ici**\n",
    "\n",
    "    \n",
    "</div>"
   ]
  },
  {
   "cell_type": "code",
   "execution_count": null,
   "metadata": {},
   "outputs": [],
   "source": [
    "# Testez la cellule ci-dessous. Grâce à l'implémentation réalisée\n",
    "# il est possible de colorer un sommet grâce à un nombre.\n",
    "# Cela permettra de mettre en oeuvre l'algorithme de la question précédente.\n",
    "\n",
    "g.colorer(\"A\",1)\n",
    "g.colorer(\"B\",2)\n",
    "g.colorer(\"C\",3)\n",
    "g.colorer(\"D\",4)\n",
    "g.colorer(\"E\",5)\n",
    "g.colorer(\"F\",6)\n",
    "g.colorer(\"G\",7)\n",
    "g.colorer(\"H\",8)\n",
    "print(g)\n",
    "\n"
   ]
  },
  {
   "cell_type": "markdown",
   "metadata": {},
   "source": [
    "<div class=\"alert alert-warning\" role=\"alert\">\n",
    "    \n",
    "## Exercice 5\n",
    "Complétez les 2 fonctions suivante.\n",
    "    \n",
    "La première fonction prendra en paramètre une liste de voisins et un dictionnaire de couleurs.  \n",
    "Dans ce dictionnaire, les clés seront les sommets du graphe et les valeurs seront les couleurs.  \n",
    "Les couleurs seront représentées par des nombres entiers.  \n",
    "Cette fonction doit renvoyer la plus petite couleur non utilisée par les voisins\n",
    "    \n",
    "La seconde fonction prend en paramètre un graphe et doit renvoyer le coloriage de ce graphe.  \n",
    "Ce coloriage sera la donnée d'un dictionnaire associant les sommets à leurs couleurs\n",
    "    \n",
    "</div>"
   ]
  },
  {
   "cell_type": "code",
   "execution_count": null,
   "metadata": {},
   "outputs": [],
   "source": [
    "def mex(voisins : list,couleurs : dict):\n",
    "    \"\"\"\n",
    "    retourne la plus petite couleur (nombre entier) non utilisée par les voisins\n",
    "    \"\"\"\n",
    "    n = len(voisins)\n",
    "    dispo = [True] * (n+1)\n",
    "    for v in voisins : \n",
    "        if v in couleurs and couleurs[v] <= n:\n",
    "            #Acompleter\n",
    "    for c in range(n+1):\n",
    "        if #Acompleter == True:\n",
    "            return c"
   ]
  },
  {
   "cell_type": "code",
   "execution_count": null,
   "metadata": {},
   "outputs": [],
   "source": [
    "# Tests de la fonction mex\n",
    "couleurs = {\"A\":0 , \"B\":1, \"C\":1 , \"D\":2}\n",
    "\n",
    "assert mex([\"A\",\"B\",\"C\",\"D\"],couleurs) == 3\n",
    "assert mex([\"B\",\"C\",\"D\"],couleurs) == 0\n",
    "assert mex([\"A\",\"D\"],couleurs) == 1"
   ]
  },
  {
   "cell_type": "code",
   "execution_count": null,
   "metadata": {},
   "outputs": [],
   "source": [
    "def coloriage(g):\n",
    "    \"Retourne le coloriage et le nombre de couleur nescessaire pour colorer un graphe\"\n",
    "    couleurs = {}\n",
    "    n = 0\n",
    "    for s in g.sommets():\n",
    "        #Acompleter\n",
    "        n = max(n,c+1)\n",
    "    return couleurs,n"
   ]
  },
  {
   "cell_type": "code",
   "execution_count": null,
   "metadata": {},
   "outputs": [],
   "source": [
    "# Test de la fonction coloriage\n",
    "couleurs , n = coloriage(g)\n",
    "print(couleurs , n)"
   ]
  },
  {
   "cell_type": "code",
   "execution_count": null,
   "metadata": {},
   "outputs": [],
   "source": [
    "# Application de la coloration sur le graphe\n",
    "for s in g.sommets():\n",
    "    g.colorer(s,couleurs[s])\n",
    "    \n",
    "print(g)"
   ]
  },
  {
   "cell_type": "markdown",
   "metadata": {},
   "source": [
    "Voici un extrait d'un sujet de BAC (Term ES) de 2007.\n",
    "\n",
    "Répondre aux différentes questions à l'aide de `python`\n",
    "\n",
    "![BAC1](https://nc-lycees.netocentre.fr/s/dekKrNAF3Px4DdX/preview)"
   ]
  },
  {
   "cell_type": "code",
   "execution_count": null,
   "metadata": {},
   "outputs": [],
   "source": [
    "# Question 1\n",
    "\n",
    "\n",
    "\n"
   ]
  },
  {
   "cell_type": "code",
   "execution_count": null,
   "metadata": {},
   "outputs": [],
   "source": [
    "# Question 2 a et b\n",
    "\n"
   ]
  },
  {
   "cell_type": "code",
   "execution_count": null,
   "metadata": {},
   "outputs": [],
   "source": [
    "# Question 3\n",
    "\n",
    "\n"
   ]
  },
  {
   "cell_type": "code",
   "execution_count": null,
   "metadata": {},
   "outputs": [],
   "source": [
    "# Note : on peut faire mieux que 4 couleurs, en effet en changeant \n",
    "# l'ordre des sommets du graphe le résultat de la coloration peut varier.\n"
   ]
  },
  {
   "cell_type": "code",
   "execution_count": null,
   "metadata": {},
   "outputs": [],
   "source": []
  }
 ],
 "metadata": {
  "kernelspec": {
   "display_name": "Python 3",
   "language": "python",
   "name": "python3"
  },
  "language_info": {
   "codemirror_mode": {
    "name": "ipython",
    "version": 3
   },
   "file_extension": ".py",
   "mimetype": "text/x-python",
   "name": "python",
   "nbconvert_exporter": "python",
   "pygments_lexer": "ipython3",
   "version": "3.7.4"
  }
 },
 "nbformat": 4,
 "nbformat_minor": 4
}
