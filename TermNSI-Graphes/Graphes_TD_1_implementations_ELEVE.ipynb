{
 "cells": [
  {
   "cell_type": "markdown",
   "metadata": {},
   "source": [
    "# Graphes\n",
    "\n",
    "Plusieurs façon d'implémenter les graphes **non orientés** peuvent être utilisée. Nous allons en voir deux :\n",
    "- avec un dictionnaire\n",
    "- avec la matrice d'adjacence\n",
    "\n",
    "Dans tous les cas, nous chercherons à implémenter les méthodes suivantes :\n",
    "\n",
    "![Méthodes](https://nc-lycees.netocentre.fr/s/6A54DEy3dq22e2m/preview)\n"
   ]
  },
  {
   "cell_type": "code",
   "execution_count": null,
   "metadata": {},
   "outputs": [],
   "source": [
    "# Import de networkx pour l'affichage des graphes.\n",
    "import networkx"
   ]
  },
  {
   "cell_type": "markdown",
   "metadata": {},
   "source": [
    "## Implémentation avec un dictionnaire"
   ]
  },
  {
   "cell_type": "markdown",
   "metadata": {},
   "source": [
    "<div class=\"alert alert-warning\" role=\"alert\">\n",
    "    \n",
    "## Exercice 1\n",
    "Compléter la classe `Graphe` ci-dessous. Les clés seront les sommets du graphe et leur valeur sera la liste des sommets adjacents.\n",
    "    \n",
    "Attention, comme le graphe n'est pas orienté, si A et B sont adjacents, il faudra faire une arête de A vers B et aussi de B vers A.\n",
    "</div>"
   ]
  },
  {
   "cell_type": "code",
   "execution_count": null,
   "metadata": {},
   "outputs": [],
   "source": [
    "class Graphe:\n",
    "    def __init__(self):\n",
    "        pass\n",
    "        \n",
    "    def ajouter_sommet(self,s):\n",
    "        pass\n",
    "            \n",
    "    def ajouter_arc(self, s1, s2):\n",
    "        pass\n",
    "        \n",
    "    def arc(self,s1,s2):\n",
    "        pass\n",
    "    \n",
    "    def sommets(self):\n",
    "        pass\n",
    "    \n",
    "    def voisins(self,s):\n",
    "        pass\n",
    "    \n",
    "    def __str__(self): \n",
    "        \"Affichage du graphe en utilisant le module networkx\"\n",
    "        G = networkx.Graph()\n",
    "        for s1 in self.sommets():\n",
    "            for s2 in self.voisins(s1):\n",
    "                G.add_edge(s1,s2)\n",
    "        networkx.draw(G, with_labels=True, node_color=\"skyblue\", )  \n",
    "        return \"\""
   ]
  },
  {
   "cell_type": "code",
   "execution_count": null,
   "metadata": {},
   "outputs": [],
   "source": [
    "# Exemple\n",
    "\n",
    "g = Graphe()\n",
    "g.ajouter_arc(\"A\",\"B\")\n",
    "g.ajouter_arc(\"A\",\"D\")\n",
    "g.ajouter_arc(\"B\",\"C\")\n",
    "g.ajouter_arc(\"D\",\"B\")\n",
    "\n",
    "print(\"Sommets du graphe:\",g.sommets())\n",
    "print(\"Voisins de A:\",g.voisins(\"A\"))\n",
    "print(\"Voisins de B:\",g.voisins(\"B\"))"
   ]
  },
  {
   "cell_type": "code",
   "execution_count": null,
   "metadata": {},
   "outputs": [],
   "source": [
    "# Code qui ulise networkx\n",
    "print(g)"
   ]
  },
  {
   "cell_type": "markdown",
   "metadata": {},
   "source": [
    "<div class=\"alert alert-warning\" role=\"alert\">\n",
    "    \n",
    "## Exercice 2\n",
    "Utilisez la classe précédente pour créer le graphe ci-dessous.\n",
    "</div>\n",
    "\n",
    "![Méthodes](https://nc-lycees.netocentre.fr/s/JFMCabYi72yJSA6/preview)\n"
   ]
  },
  {
   "cell_type": "code",
   "execution_count": null,
   "metadata": {},
   "outputs": [],
   "source": [
    "# Votre code ici.\n",
    "pass"
   ]
  },
  {
   "cell_type": "code",
   "execution_count": null,
   "metadata": {},
   "outputs": [],
   "source": [
    "print(g)"
   ]
  },
  {
   "cell_type": "markdown",
   "metadata": {},
   "source": [
    "<div class=\"alert alert-warning\" role=\"alert\">\n",
    "    \n",
    "## Exercice 3\n",
    "Ecrire des fonctions qui permettent :\n",
    "\n",
    "1. d'afficher le nombre de sommets d'un graphe passé en paramètre\n",
    "2. d'afficher le nombre d'arêtes d'un graphe passé en paramètre\n",
    "3. le degré d'un sommet passé en paramètre\n",
    "4. le sommet de plus haut degré et le degré d'un graphe passé en paramètre\n",
    "    \n",
    "</div>"
   ]
  },
  {
   "cell_type": "code",
   "execution_count": null,
   "metadata": {},
   "outputs": [],
   "source": [
    "# Votre code ici :\n",
    "# Question 1.\n",
    "\n",
    "\n",
    "# Question 2.\n",
    "\n",
    "\n",
    "# Question 3.\n",
    "\n",
    "\n",
    "# Question 4.\n",
    "\n"
   ]
  },
  {
   "cell_type": "markdown",
   "metadata": {},
   "source": [
    "## Implémentation sous forme de matrice d'adjacence"
   ]
  },
  {
   "cell_type": "markdown",
   "metadata": {},
   "source": [
    "<div class=\"alert alert-warning\" role=\"alert\">\n",
    "    \n",
    "## Exercice 4\n",
    "Compléter la classe `Graphe` ci-dessous. \n",
    "    On utilisera une matrice d'adjacence pour stocker les arêtes entre les différents sommets.  \n",
    "    La taille de la matrice sera spécifiée lors de la création du graphe via le paramètre `n`  \n",
    "    Les sommets sont accessible par leur indice (de 0 à n-1)\n",
    "    \n",
    "Attention, comme le graphe n'est pas orienté, si A et B sont adjacents, il faudra faire une arête de A vers B et aussi de B vers A.\n",
    "</div>"
   ]
  },
  {
   "cell_type": "code",
   "execution_count": null,
   "metadata": {},
   "outputs": [],
   "source": [
    "class Graphe:    \n",
    "    def __init__(self,n : int):\n",
    "        self.n = n \n",
    "        self.adj = [[False]*n for _ in range(n)]\n",
    "        \n",
    "    def ajouter_arc(self, s1, s2):\n",
    "        pass\n",
    "        \n",
    "    def arc(self,s1,s2):\n",
    "        pass\n",
    "    \n",
    "    def voisins(self, s):\n",
    "        pass\n",
    "    \n",
    "    def __str__(self): \n",
    "        \"Affichage du graphe en utilisant le module networkx\"\n",
    "        G = networkx.Graph()\n",
    "        for s1 in range(self.n):\n",
    "            for s2 in self.voisins(s1):\n",
    "                G.add_edge(s1,s2)\n",
    "        networkx.draw(G, with_labels=True, node_color=\"skyblue\")  \n",
    "        return \"\""
   ]
  },
  {
   "cell_type": "code",
   "execution_count": null,
   "metadata": {},
   "outputs": [],
   "source": [
    "# Exemple\n",
    "g = Graphe(4)\n",
    "g.ajouter_arc(0,1)\n",
    "g.ajouter_arc(0,3)\n",
    "g.ajouter_arc(1,2)\n",
    "g.ajouter_arc(3,1)\n"
   ]
  },
  {
   "cell_type": "code",
   "execution_count": null,
   "metadata": {},
   "outputs": [],
   "source": [
    "print(g)"
   ]
  },
  {
   "cell_type": "markdown",
   "metadata": {},
   "source": [
    "## Bonus : modifier ces classes pour des graphes orientés"
   ]
  },
  {
   "cell_type": "markdown",
   "metadata": {},
   "source": [
    "Avec le dictionnaire"
   ]
  },
  {
   "cell_type": "code",
   "execution_count": null,
   "metadata": {},
   "outputs": [],
   "source": [
    "class Graphe:\n",
    "    def __init__(self):\n",
    "        pass\n",
    "        \n",
    "    def ajouter_sommet(self,s):\n",
    "        pass\n",
    "            \n",
    "    def ajouter_arc(self, s1, s2):\n",
    "        pass\n",
    "        \n",
    "    def arc(self,s1,s2):\n",
    "        pass\n",
    "    \n",
    "    def sommets(self):\n",
    "        pass\n",
    "    \n",
    "    def voisins(self,s):\n",
    "        pass\n",
    "    \n",
    "    def __str__(self): \n",
    "        \"Affichage du graphe en utilisant le module networkx\"\n",
    "        G = networkx.DiGraph()\n",
    "        for s1 in self.sommets():\n",
    "            for s2 in self.voisins(s1):\n",
    "                G.add_edge(s1,s2)\n",
    "        networkx.draw(G, with_labels=True, node_color=\"skyblue\", arrowstyle=\"-|>\")  \n",
    "        return \"\""
   ]
  },
  {
   "cell_type": "code",
   "execution_count": null,
   "metadata": {},
   "outputs": [],
   "source": [
    "# Exemple\n",
    "g = Graphe()\n",
    "g.ajouter_arc(\"A\",\"B\")\n",
    "g.ajouter_arc(\"A\",\"D\")\n",
    "g.ajouter_arc(\"B\",\"C\")\n",
    "g.ajouter_arc(\"D\",\"B\")\n",
    "\n",
    "print(\"Sommets du graphe:\",g.sommets())\n",
    "print(\"Voisins de A:\",g.voisins(\"A\"))\n",
    "print(\"Voisins de B:\",g.voisins(\"B\"))"
   ]
  },
  {
   "cell_type": "code",
   "execution_count": null,
   "metadata": {},
   "outputs": [],
   "source": [
    "print(g)"
   ]
  },
  {
   "cell_type": "markdown",
   "metadata": {},
   "source": [
    "Avec la matrice d'adjacence :"
   ]
  },
  {
   "cell_type": "code",
   "execution_count": null,
   "metadata": {},
   "outputs": [],
   "source": [
    "class Graphe:    \n",
    "    def __init__(self,n : int):\n",
    "        pass\n",
    "        \n",
    "    def ajouter_arc(self, s1, s2):\n",
    "        pass\n",
    "        \n",
    "    def arc(self,s1,s2):\n",
    "        pass\n",
    "    \n",
    "    def voisins(self, s):\n",
    "        pass\n",
    "    \n",
    "    def __str__(self): \n",
    "        \"Affichage du graphe en utilisant le module networkx\"\n",
    "        G = networkx.DiGraph()\n",
    "        for s1 in range(self.n):\n",
    "            for s2 in self.voisins(s1):\n",
    "                G.add_edge(s1,s2)\n",
    "        networkx.draw(G, with_labels=True, node_color=\"skyblue\", arrowstyle=\"-|>\")  \n",
    "        return \"\""
   ]
  },
  {
   "cell_type": "code",
   "execution_count": null,
   "metadata": {},
   "outputs": [],
   "source": [
    "# Exemple\n",
    "g = Graphe(4)\n",
    "g.ajouter_arc(0,1)\n",
    "g.ajouter_arc(0,3)\n",
    "g.ajouter_arc(1,2)\n",
    "g.ajouter_arc(3,1)\n"
   ]
  },
  {
   "cell_type": "code",
   "execution_count": null,
   "metadata": {},
   "outputs": [],
   "source": [
    "print(g)"
   ]
  }
 ],
 "metadata": {
  "kernelspec": {
   "display_name": "Python 3",
   "language": "python",
   "name": "python3"
  },
  "language_info": {
   "codemirror_mode": {
    "name": "ipython",
    "version": 3
   },
   "file_extension": ".py",
   "mimetype": "text/x-python",
   "name": "python",
   "nbconvert_exporter": "python",
   "pygments_lexer": "ipython3",
   "version": "3.7.4"
  }
 },
 "nbformat": 4,
 "nbformat_minor": 4
}
